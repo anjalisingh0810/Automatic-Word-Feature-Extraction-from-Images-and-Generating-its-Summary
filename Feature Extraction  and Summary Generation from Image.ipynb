{
 "cells": [
  {
   "cell_type": "code",
   "execution_count": 1,
   "id": "fc92cefd",
   "metadata": {},
   "outputs": [],
   "source": [
    "import cv2\n",
    "import pytesseract"
   ]
  },
  {
   "cell_type": "code",
   "execution_count": 2,
   "id": "60d8646d",
   "metadata": {},
   "outputs": [],
   "source": [
    "path=r\"C:\\Users\\User\\Downloads\\Image Processing Using ML/1.png\""
   ]
  },
  {
   "cell_type": "code",
   "execution_count": 3,
   "id": "417843e6",
   "metadata": {},
   "outputs": [],
   "source": [
    "image=cv2.imread(path)"
   ]
  },
  {
   "cell_type": "code",
   "execution_count": 4,
   "id": "c149b230",
   "metadata": {},
   "outputs": [
    {
     "data": {
      "text/plain": [
       "<function destroyAllWindows>"
      ]
     },
     "execution_count": 4,
     "metadata": {},
     "output_type": "execute_result"
    }
   ],
   "source": [
    "cv2.imshow(\"new.jpeg\",image)\n",
    "cv2.waitKey(0)\n",
    "cv2.destroyAllWindows"
   ]
  },
  {
   "cell_type": "code",
   "execution_count": 5,
   "id": "327c3b1b",
   "metadata": {},
   "outputs": [],
   "source": [
    "gray = cv2.cvtColor(image, cv2.COLOR_BGR2GRAY)\n",
    "cv2.imshow(\"Gray Scale.jpg\",gray)\n",
    "cv2.waitKey(0)\n",
    "cv2.destroyAllWindows()"
   ]
  },
  {
   "cell_type": "code",
   "execution_count": 6,
   "id": "7ac47188",
   "metadata": {},
   "outputs": [],
   "source": [
    "thresh = cv2.threshold(gray, 0, 255, cv2.THRESH_BINARY + cv2.THRESH_OTSU)[1]"
   ]
  },
  {
   "cell_type": "code",
   "execution_count": 7,
   "id": "b8ae101c",
   "metadata": {},
   "outputs": [],
   "source": [
    "pytesseract.pytesseract.tesseract_cmd = r'C:\\Program Files\\Tesseract-OCR\\tesseract.exe'"
   ]
  },
  {
   "cell_type": "code",
   "execution_count": 8,
   "id": "9fde41a4",
   "metadata": {},
   "outputs": [
    {
     "name": "stdout",
     "output_type": "stream",
     "text": [
      "Dear all,\n",
      "\n",
      "With a profound sense of pride and purpose, we are delighted to announce the forthcoming celebration of National Engineering Day on the 15th of September. This prestigious event,\n",
      "organized by the Culture, Sports, and Responsibility (CSaR) team in collaboration with the School of Engineering and Technology (SoET), is a testament to our commitment to nurturing\n",
      "excellence, fostering innovation, and inspiring the engineers of tomorrow.\n",
      "\n",
      "National Engineering Day Celebration Details\n",
      "Date: 15th September\n",
      "Time: 3:30 PM onwards\n",
      "\n",
      "Our university has always been a crucible for brilliance, where young minds are sculpted into future leaders and innovators. This celebration is a platform for our budding engineers to exhibit\n",
      "their prowess, dedication, and unwavering commitment to their respective domains\n",
      "\n",
      "In the spirit of grandeur and solemnity befitting this occasion, we are honored to have the esteemed presence of Dr. Ashish Ranjan Dash, the Dean of the School of Engineering and\n",
      "Technology. In the forthcoming mail trail, Dr. Ashish Ranjan Dash will unveil the comprehensive agenda, which promises to be a tapestry of knowledge sharing, inspiration, and the\n",
      "\n",
      "celebration of engineering achievements\n",
      "\n",
      "As we come together to commemorate the indomitable spirit of engineers and their invaluable contributions to society, we invite each and every one of you to join us in this inspiring journey.\n",
      "Let us together kindle the flames of innovation and ambition in the hearts of our students, setting them on a path to excellence that will shape the future.\n",
      "\n",
      "Stay attuned for further updates, and let your presence be a beacon of encouragement for our aspiring engineers\n",
      "With profound respect and anticipation\n",
      "\n",
      "CSaR Team - Centurion University\n",
      "\n"
     ]
    }
   ],
   "source": [
    "extracted_text = pytesseract.image_to_string(thresh)\n",
    "print(extracted_text)"
   ]
  },
  {
   "cell_type": "code",
   "execution_count": null,
   "id": "b41587b6",
   "metadata": {
    "scrolled": true
   },
   "outputs": [
    {
     "name": "stderr",
     "output_type": "stream",
     "text": [
      "No model was supplied, defaulted to sshleifer/distilbart-cnn-12-6 and revision a4f8f3e (https://huggingface.co/sshleifer/distilbart-cnn-12-6).\n",
      "Using a pipeline without specifying a model name and revision in production is not recommended.\n",
      "Your max_length is set to 1500, but your input_length is only 358. Since this is a summarization task, where outputs shorter than the input are typically wanted, you might consider decreasing max_length manually, e.g. summarizer('...', max_length=179)\n"
     ]
    }
   ],
   "source": [
    "from transformers  import pipeline\n",
    "\n",
    "# Load pre-trained summarization model\n",
    "summarizer = pipeline('summarization')\n",
    "\n",
    "# Assuming 'text_data' contains your dataset as a string\n",
    "summary = summarizer(extracted_text, max_length=1500, min_length=100, do_sample=False)[0]['summary_text']\n",
    "\n",
    "print(summary)"
   ]
  },
  {
   "cell_type": "code",
   "execution_count": null,
   "id": "576caec4",
   "metadata": {},
   "outputs": [],
   "source": []
  }
 ],
 "metadata": {
  "kernelspec": {
   "display_name": "Python 3 (ipykernel)",
   "language": "python",
   "name": "python3"
  },
  "language_info": {
   "codemirror_mode": {
    "name": "ipython",
    "version": 3
   },
   "file_extension": ".py",
   "mimetype": "text/x-python",
   "name": "python",
   "nbconvert_exporter": "python",
   "pygments_lexer": "ipython3",
   "version": "3.11.4"
  }
 },
 "nbformat": 4,
 "nbformat_minor": 5
}
